{
  "nbformat": 4,
  "nbformat_minor": 0,
  "metadata": {
    "colab": {
      "name": "2dof",
      "provenance": [],
      "collapsed_sections": [],
      "authorship_tag": "ABX9TyMn3eNjhOxlImQIBE++OSgm",
      "include_colab_link": true
    },
    "kernelspec": {
      "name": "python3",
      "display_name": "Python 3"
    },
    "language_info": {
      "name": "python"
    }
  },
  "cells": [
    {
      "cell_type": "markdown",
      "metadata": {
        "id": "view-in-github",
        "colab_type": "text"
      },
      "source": [
        "<a href=\"https://colab.research.google.com/github/nguyenhau442001/Predict_position_of_2of_robot/blob/main/2dof.ipynb\" target=\"_parent\"><img src=\"https://colab.research.google.com/assets/colab-badge.svg\" alt=\"Open In Colab\"/></a>"
      ]
    },
    {
      "cell_type": "code",
      "execution_count": null,
      "metadata": {
        "colab": {
          "resources": {
            "http://localhost:8080/nbextensions/google.colab/files.js": {
              "data": "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",
              "ok": true,
              "headers": [
                [
                  "content-type",
                  "application/javascript"
                ]
              ],
              "status": 200,
              "status_text": ""
            }
          },
          "base_uri": "https://localhost:8080/",
          "height": 74
        },
        "id": "Rk7YyPGjKTIX",
        "outputId": "c82317b4-db8f-4613-863a-49ebb8d196b3"
      },
      "outputs": [
        {
          "output_type": "display_data",
          "data": {
            "text/plain": [
              "<IPython.core.display.HTML object>"
            ],
            "text/html": [
              "\n",
              "     <input type=\"file\" id=\"files-a569ba84-4a78-4d53-86b0-3a5fb8aec61e\" name=\"files[]\" multiple disabled\n",
              "        style=\"border:none\" />\n",
              "     <output id=\"result-a569ba84-4a78-4d53-86b0-3a5fb8aec61e\">\n",
              "      Upload widget is only available when the cell has been executed in the\n",
              "      current browser session. Please rerun this cell to enable.\n",
              "      </output>\n",
              "      <script src=\"/nbextensions/google.colab/files.js\"></script> "
            ]
          },
          "metadata": {}
        },
        {
          "output_type": "stream",
          "name": "stdout",
          "text": [
            "Saving 2dof.csv to 2dof.csv\n"
          ]
        }
      ],
      "source": [
        "# Solve the problem of inverse kinematics with 2 degrees of freedom (rotation),given l1=50,l2=40,px,py => angle theta1,theta2\n",
        "from google.colab import files \n",
        "uploaded=files.upload()"
      ]
    },
    {
      "cell_type": "code",
      "source": [
        "import pandas as pd\n",
        "url ='2dof.csv'\n",
        "dataframe=pd.read_csv(url)\n",
        "print(dataframe.shape)\n",
        "dataframe.head(10000)"
      ],
      "metadata": {
        "colab": {
          "base_uri": "https://localhost:8080/",
          "height": 441
        },
        "id": "OSJVuNHOKdB-",
        "outputId": "b57969de-154f-4aa8-addf-4ce1f2b58e4f"
      },
      "execution_count": null,
      "outputs": [
        {
          "output_type": "stream",
          "name": "stdout",
          "text": [
            "(32761, 4)\n"
          ]
        },
        {
          "output_type": "execute_result",
          "data": {
            "text/plain": [
              "      theta1  theta2         px         py\n",
              "0          0       0  90.000000   0.000000\n",
              "1          0       1  89.993908   0.698096\n",
              "2          0       2  89.975633   1.395980\n",
              "3          0       3  89.945181   2.093438\n",
              "4          0       4  89.902562   2.790259\n",
              "...      ...     ...        ...        ...\n",
              "9995      55      40  25.192592  80.805390\n",
              "9996      55      41  24.497683  80.738478\n",
              "9997      55      42  23.804048  80.659448\n",
              "9998      55      43  23.111898  80.568325\n",
              "9999      55      44  22.421443  80.465136\n",
              "\n",
              "[10000 rows x 4 columns]"
            ],
            "text/html": [
              "\n",
              "  <div id=\"df-0a38e538-f5e7-43e1-924b-cdac0dfb6689\">\n",
              "    <div class=\"colab-df-container\">\n",
              "      <div>\n",
              "<style scoped>\n",
              "    .dataframe tbody tr th:only-of-type {\n",
              "        vertical-align: middle;\n",
              "    }\n",
              "\n",
              "    .dataframe tbody tr th {\n",
              "        vertical-align: top;\n",
              "    }\n",
              "\n",
              "    .dataframe thead th {\n",
              "        text-align: right;\n",
              "    }\n",
              "</style>\n",
              "<table border=\"1\" class=\"dataframe\">\n",
              "  <thead>\n",
              "    <tr style=\"text-align: right;\">\n",
              "      <th></th>\n",
              "      <th>theta1</th>\n",
              "      <th>theta2</th>\n",
              "      <th>px</th>\n",
              "      <th>py</th>\n",
              "    </tr>\n",
              "  </thead>\n",
              "  <tbody>\n",
              "    <tr>\n",
              "      <th>0</th>\n",
              "      <td>0</td>\n",
              "      <td>0</td>\n",
              "      <td>90.000000</td>\n",
              "      <td>0.000000</td>\n",
              "    </tr>\n",
              "    <tr>\n",
              "      <th>1</th>\n",
              "      <td>0</td>\n",
              "      <td>1</td>\n",
              "      <td>89.993908</td>\n",
              "      <td>0.698096</td>\n",
              "    </tr>\n",
              "    <tr>\n",
              "      <th>2</th>\n",
              "      <td>0</td>\n",
              "      <td>2</td>\n",
              "      <td>89.975633</td>\n",
              "      <td>1.395980</td>\n",
              "    </tr>\n",
              "    <tr>\n",
              "      <th>3</th>\n",
              "      <td>0</td>\n",
              "      <td>3</td>\n",
              "      <td>89.945181</td>\n",
              "      <td>2.093438</td>\n",
              "    </tr>\n",
              "    <tr>\n",
              "      <th>4</th>\n",
              "      <td>0</td>\n",
              "      <td>4</td>\n",
              "      <td>89.902562</td>\n",
              "      <td>2.790259</td>\n",
              "    </tr>\n",
              "    <tr>\n",
              "      <th>...</th>\n",
              "      <td>...</td>\n",
              "      <td>...</td>\n",
              "      <td>...</td>\n",
              "      <td>...</td>\n",
              "    </tr>\n",
              "    <tr>\n",
              "      <th>9995</th>\n",
              "      <td>55</td>\n",
              "      <td>40</td>\n",
              "      <td>25.192592</td>\n",
              "      <td>80.805390</td>\n",
              "    </tr>\n",
              "    <tr>\n",
              "      <th>9996</th>\n",
              "      <td>55</td>\n",
              "      <td>41</td>\n",
              "      <td>24.497683</td>\n",
              "      <td>80.738478</td>\n",
              "    </tr>\n",
              "    <tr>\n",
              "      <th>9997</th>\n",
              "      <td>55</td>\n",
              "      <td>42</td>\n",
              "      <td>23.804048</td>\n",
              "      <td>80.659448</td>\n",
              "    </tr>\n",
              "    <tr>\n",
              "      <th>9998</th>\n",
              "      <td>55</td>\n",
              "      <td>43</td>\n",
              "      <td>23.111898</td>\n",
              "      <td>80.568325</td>\n",
              "    </tr>\n",
              "    <tr>\n",
              "      <th>9999</th>\n",
              "      <td>55</td>\n",
              "      <td>44</td>\n",
              "      <td>22.421443</td>\n",
              "      <td>80.465136</td>\n",
              "    </tr>\n",
              "  </tbody>\n",
              "</table>\n",
              "<p>10000 rows × 4 columns</p>\n",
              "</div>\n",
              "      <button class=\"colab-df-convert\" onclick=\"convertToInteractive('df-0a38e538-f5e7-43e1-924b-cdac0dfb6689')\"\n",
              "              title=\"Convert this dataframe to an interactive table.\"\n",
              "              style=\"display:none;\">\n",
              "        \n",
              "  <svg xmlns=\"http://www.w3.org/2000/svg\" height=\"24px\"viewBox=\"0 0 24 24\"\n",
              "       width=\"24px\">\n",
              "    <path d=\"M0 0h24v24H0V0z\" fill=\"none\"/>\n",
              "    <path d=\"M18.56 5.44l.94 2.06.94-2.06 2.06-.94-2.06-.94-.94-2.06-.94 2.06-2.06.94zm-11 1L8.5 8.5l.94-2.06 2.06-.94-2.06-.94L8.5 2.5l-.94 2.06-2.06.94zm10 10l.94 2.06.94-2.06 2.06-.94-2.06-.94-.94-2.06-.94 2.06-2.06.94z\"/><path d=\"M17.41 7.96l-1.37-1.37c-.4-.4-.92-.59-1.43-.59-.52 0-1.04.2-1.43.59L10.3 9.45l-7.72 7.72c-.78.78-.78 2.05 0 2.83L4 21.41c.39.39.9.59 1.41.59.51 0 1.02-.2 1.41-.59l7.78-7.78 2.81-2.81c.8-.78.8-2.07 0-2.86zM5.41 20L4 18.59l7.72-7.72 1.47 1.35L5.41 20z\"/>\n",
              "  </svg>\n",
              "      </button>\n",
              "      \n",
              "  <style>\n",
              "    .colab-df-container {\n",
              "      display:flex;\n",
              "      flex-wrap:wrap;\n",
              "      gap: 12px;\n",
              "    }\n",
              "\n",
              "    .colab-df-convert {\n",
              "      background-color: #E8F0FE;\n",
              "      border: none;\n",
              "      border-radius: 50%;\n",
              "      cursor: pointer;\n",
              "      display: none;\n",
              "      fill: #1967D2;\n",
              "      height: 32px;\n",
              "      padding: 0 0 0 0;\n",
              "      width: 32px;\n",
              "    }\n",
              "\n",
              "    .colab-df-convert:hover {\n",
              "      background-color: #E2EBFA;\n",
              "      box-shadow: 0px 1px 2px rgba(60, 64, 67, 0.3), 0px 1px 3px 1px rgba(60, 64, 67, 0.15);\n",
              "      fill: #174EA6;\n",
              "    }\n",
              "\n",
              "    [theme=dark] .colab-df-convert {\n",
              "      background-color: #3B4455;\n",
              "      fill: #D2E3FC;\n",
              "    }\n",
              "\n",
              "    [theme=dark] .colab-df-convert:hover {\n",
              "      background-color: #434B5C;\n",
              "      box-shadow: 0px 1px 3px 1px rgba(0, 0, 0, 0.15);\n",
              "      filter: drop-shadow(0px 1px 2px rgba(0, 0, 0, 0.3));\n",
              "      fill: #FFFFFF;\n",
              "    }\n",
              "  </style>\n",
              "\n",
              "      <script>\n",
              "        const buttonEl =\n",
              "          document.querySelector('#df-0a38e538-f5e7-43e1-924b-cdac0dfb6689 button.colab-df-convert');\n",
              "        buttonEl.style.display =\n",
              "          google.colab.kernel.accessAllowed ? 'block' : 'none';\n",
              "\n",
              "        async function convertToInteractive(key) {\n",
              "          const element = document.querySelector('#df-0a38e538-f5e7-43e1-924b-cdac0dfb6689');\n",
              "          const dataTable =\n",
              "            await google.colab.kernel.invokeFunction('convertToInteractive',\n",
              "                                                     [key], {});\n",
              "          if (!dataTable) return;\n",
              "\n",
              "          const docLinkHtml = 'Like what you see? Visit the ' +\n",
              "            '<a target=\"_blank\" href=https://colab.research.google.com/notebooks/data_table.ipynb>data table notebook</a>'\n",
              "            + ' to learn more about interactive tables.';\n",
              "          element.innerHTML = '';\n",
              "          dataTable['output_type'] = 'display_data';\n",
              "          await google.colab.output.renderOutput(dataTable, element);\n",
              "          const docLink = document.createElement('div');\n",
              "          docLink.innerHTML = docLinkHtml;\n",
              "          element.appendChild(docLink);\n",
              "        }\n",
              "      </script>\n",
              "    </div>\n",
              "  </div>\n",
              "  "
            ]
          },
          "metadata": {},
          "execution_count": 11
        }
      ]
    },
    {
      "cell_type": "code",
      "source": [
        "from sklearn.model_selection import train_test_split\n",
        "\n",
        "theta=dataframe.drop(['px','py'], axis=1)\n",
        "position=dataframe.drop(['theta1','theta2'], axis=1)\n",
        "\n",
        "\n",
        "theta_train,theta_test,position_train,position_test=train_test_split(theta,position,test_size=0.2)\n",
        "print(theta_train.shape) \n",
        "print(theta_train.head(10))\n",
        "print(position_train.head(10))\n",
        "\n",
        "print(theta_test.shape)  \n",
        "print(position_test.shape)"
      ],
      "metadata": {
        "colab": {
          "base_uri": "https://localhost:8080/"
        },
        "id": "tpZ9-TEkKkRe",
        "outputId": "2525260c-cbc5-47c2-ccda-58ed1b82ce42"
      },
      "execution_count": null,
      "outputs": [
        {
          "output_type": "stream",
          "name": "stdout",
          "text": [
            "(26208, 2)\n",
            "(26208, 2)\n",
            "       theta1  theta2\n",
            "29214     161      73\n",
            "21828     120     108\n",
            "25084     138     106\n",
            "11030      60     170\n",
            "15264      84      60\n",
            "14008      77      71\n",
            "20600     113     147\n",
            "21635     119      96\n",
            "20562     113     109\n",
            "18892     104      68\n",
            "              px         py\n",
            "29214 -70.787339 -16.082272\n",
            "21828 -51.765224  13.575477\n",
            "25084 -54.692087  -2.495232\n",
            "11030  -0.711504  12.659492\n",
            "15264 -27.134257  73.237505\n",
            "14008 -22.674371  69.915274\n",
            "20600 -26.482484   6.632933\n",
            "21635 -57.006563  20.787928\n",
            "20562 -49.262349  19.260018\n",
            "18892 -51.706818  54.081710\n",
            "(6553, 2)\n",
            "(6553, 2)\n"
          ]
        }
      ]
    },
    {
      "cell_type": "code",
      "source": [
        "import keras\n",
        "from keras.datasets import boston_housing\n",
        "from tensorflow.keras.optimizers import RMSprop  # tính sai số.\n",
        "from keras.callbacks import EarlyStopping  # Dừng nhanh, khi đạt 1 giá trị nào đó thì dừng xử lý.\n",
        "from sklearn import preprocessing\n",
        "from sklearn.preprocessing import scale, StandardScaler\n",
        "from keras.models import Sequential\n",
        "from keras.layers import Dense, Activation\n",
        "import matplotlib.pyplot as plt\n",
        "\n",
        "\n",
        "theta=theta.astype('float32')\n",
        "\n",
        "model = Sequential()\n",
        "model.add(Dense(64, kernel_initializer='normal', activation='relu', input_shape=(2,)))\n",
        "model.add(Dense(64, activation='relu')) \n",
        "model.add(Dense(2)) \n",
        "model.summary()\n",
        "\n"
      ],
      "metadata": {
        "colab": {
          "base_uri": "https://localhost:8080/"
        },
        "id": "zIc75GPiKpgQ",
        "outputId": "1f1a2551-4ce4-4dda-8eac-ff96c980fa2f"
      },
      "execution_count": null,
      "outputs": [
        {
          "output_type": "stream",
          "name": "stdout",
          "text": [
            "Model: \"sequential_1\"\n",
            "_________________________________________________________________\n",
            " Layer (type)                Output Shape              Param #   \n",
            "=================================================================\n",
            " dense_3 (Dense)             (None, 64)                192       \n",
            "                                                                 \n",
            " dense_4 (Dense)             (None, 64)                4160      \n",
            "                                                                 \n",
            " dense_5 (Dense)             (None, 2)                 130       \n",
            "                                                                 \n",
            "=================================================================\n",
            "Total params: 4,482\n",
            "Trainable params: 4,482\n",
            "Non-trainable params: 0\n",
            "_________________________________________________________________\n"
          ]
        }
      ]
    },
    {
      "cell_type": "code",
      "source": [
        "model.compile(loss='mse', optimizer=RMSprop(), metrics=['accuracy'])                                                                          "
      ],
      "metadata": {
        "id": "MphweznoKuKV"
      },
      "execution_count": null,
      "outputs": []
    },
    {
      "cell_type": "code",
      "source": [
        "history=model.fit(theta_train,position_train,batch_size=128, epochs=1000, verbose=1, validation_split=0.2, callbacks=[EarlyStopping(monitor='val_loss', patience=20)])\n",
        "score = model.evaluate(theta_test,position_test, verbose=0)\n",
        "\n",
        "print('Test loss:', score[0])\n",
        "print('Test accuracy:', score[1])\n",
        "\n",
        "ylim=(0,1)\n",
        "plt.plot(history.history['accuracy'])\n",
        "plt.xlabel('epoch')\n",
        "\n",
        "plt.legend(['accuracy'])\n",
        "plt.show()"
      ],
      "metadata": {
        "colab": {
          "base_uri": "https://localhost:8080/",
          "height": 1000
        },
        "id": "js1GCLsNKx0F",
        "outputId": "a47ed75d-ed8d-476a-c160-358f62a9b880"
      },
      "execution_count": null,
      "outputs": [
        {
          "output_type": "stream",
          "name": "stdout",
          "text": [
            "Epoch 1/1000\n",
            "164/164 [==============================] - 2s 4ms/step - loss: 1253.9729 - accuracy: 0.8944 - val_loss: 1100.6494 - val_accuracy: 0.9100\n",
            "Epoch 2/1000\n",
            "164/164 [==============================] - 0s 2ms/step - loss: 1115.3998 - accuracy: 0.9063 - val_loss: 1046.8915 - val_accuracy: 0.9143\n",
            "Epoch 3/1000\n",
            "164/164 [==============================] - 0s 2ms/step - loss: 1038.6224 - accuracy: 0.9120 - val_loss: 942.4370 - val_accuracy: 0.9199\n",
            "Epoch 4/1000\n",
            "164/164 [==============================] - 0s 2ms/step - loss: 899.4595 - accuracy: 0.9152 - val_loss: 767.8132 - val_accuracy: 0.9231\n",
            "Epoch 5/1000\n",
            "164/164 [==============================] - 0s 3ms/step - loss: 718.4931 - accuracy: 0.9155 - val_loss: 672.0546 - val_accuracy: 0.9184\n",
            "Epoch 6/1000\n",
            "164/164 [==============================] - 0s 3ms/step - loss: 557.3676 - accuracy: 0.9126 - val_loss: 493.7565 - val_accuracy: 0.9155\n",
            "Epoch 7/1000\n",
            "164/164 [==============================] - 0s 2ms/step - loss: 436.4954 - accuracy: 0.9073 - val_loss: 372.7485 - val_accuracy: 0.9111\n",
            "Epoch 8/1000\n",
            "164/164 [==============================] - 0s 2ms/step - loss: 372.6046 - accuracy: 0.9061 - val_loss: 295.4716 - val_accuracy: 0.9107\n",
            "Epoch 9/1000\n",
            "164/164 [==============================] - 0s 2ms/step - loss: 324.8004 - accuracy: 0.9092 - val_loss: 408.4951 - val_accuracy: 0.9208\n",
            "Epoch 10/1000\n",
            "164/164 [==============================] - 1s 3ms/step - loss: 290.7415 - accuracy: 0.9224 - val_loss: 318.2492 - val_accuracy: 0.9315\n",
            "Epoch 11/1000\n",
            "164/164 [==============================] - 1s 4ms/step - loss: 257.9542 - accuracy: 0.9381 - val_loss: 233.5274 - val_accuracy: 0.9424\n",
            "Epoch 12/1000\n",
            "164/164 [==============================] - 0s 2ms/step - loss: 222.4293 - accuracy: 0.9495 - val_loss: 272.2560 - val_accuracy: 0.9515\n",
            "Epoch 13/1000\n",
            "164/164 [==============================] - 0s 3ms/step - loss: 190.9709 - accuracy: 0.9580 - val_loss: 226.9805 - val_accuracy: 0.9638\n",
            "Epoch 14/1000\n",
            "164/164 [==============================] - 0s 2ms/step - loss: 165.4298 - accuracy: 0.9620 - val_loss: 157.8848 - val_accuracy: 0.9720\n",
            "Epoch 15/1000\n",
            "164/164 [==============================] - 0s 2ms/step - loss: 146.0401 - accuracy: 0.9584 - val_loss: 116.8517 - val_accuracy: 0.9647\n",
            "Epoch 16/1000\n",
            "164/164 [==============================] - 0s 2ms/step - loss: 132.0709 - accuracy: 0.9569 - val_loss: 180.7960 - val_accuracy: 0.8960\n",
            "Epoch 17/1000\n",
            "164/164 [==============================] - 0s 2ms/step - loss: 126.2812 - accuracy: 0.9514 - val_loss: 99.1525 - val_accuracy: 0.9498\n",
            "Epoch 18/1000\n",
            "164/164 [==============================] - 0s 2ms/step - loss: 113.6857 - accuracy: 0.9540 - val_loss: 367.3945 - val_accuracy: 0.7770\n",
            "Epoch 19/1000\n",
            "164/164 [==============================] - 0s 2ms/step - loss: 111.3019 - accuracy: 0.9537 - val_loss: 187.0839 - val_accuracy: 0.8480\n",
            "Epoch 20/1000\n",
            "164/164 [==============================] - 0s 2ms/step - loss: 105.2415 - accuracy: 0.9498 - val_loss: 68.1963 - val_accuracy: 0.9515\n",
            "Epoch 21/1000\n",
            "164/164 [==============================] - 0s 2ms/step - loss: 102.6500 - accuracy: 0.9481 - val_loss: 114.5000 - val_accuracy: 0.9159\n",
            "Epoch 22/1000\n",
            "164/164 [==============================] - 0s 2ms/step - loss: 97.1342 - accuracy: 0.9506 - val_loss: 76.1696 - val_accuracy: 0.9454\n",
            "Epoch 23/1000\n",
            "164/164 [==============================] - 0s 2ms/step - loss: 95.8692 - accuracy: 0.9481 - val_loss: 99.5513 - val_accuracy: 0.9229\n",
            "Epoch 24/1000\n",
            "164/164 [==============================] - 0s 2ms/step - loss: 91.9117 - accuracy: 0.9512 - val_loss: 59.8762 - val_accuracy: 0.9535\n",
            "Epoch 25/1000\n",
            "164/164 [==============================] - 0s 2ms/step - loss: 86.8451 - accuracy: 0.9504 - val_loss: 153.1314 - val_accuracy: 0.9767\n",
            "Epoch 26/1000\n",
            "164/164 [==============================] - 0s 2ms/step - loss: 84.2267 - accuracy: 0.9501 - val_loss: 65.4996 - val_accuracy: 0.9765\n",
            "Epoch 27/1000\n",
            "164/164 [==============================] - 0s 2ms/step - loss: 82.9537 - accuracy: 0.9541 - val_loss: 46.6611 - val_accuracy: 0.9781\n",
            "Epoch 28/1000\n",
            "164/164 [==============================] - 0s 2ms/step - loss: 81.6627 - accuracy: 0.9542 - val_loss: 72.5727 - val_accuracy: 0.9779\n",
            "Epoch 29/1000\n",
            "164/164 [==============================] - 0s 2ms/step - loss: 79.1968 - accuracy: 0.9562 - val_loss: 38.4475 - val_accuracy: 0.9786\n",
            "Epoch 30/1000\n",
            "164/164 [==============================] - 0s 2ms/step - loss: 77.0751 - accuracy: 0.9545 - val_loss: 34.5452 - val_accuracy: 0.9796\n",
            "Epoch 31/1000\n",
            "164/164 [==============================] - 0s 2ms/step - loss: 74.9288 - accuracy: 0.9555 - val_loss: 67.5928 - val_accuracy: 0.9781\n",
            "Epoch 32/1000\n",
            "164/164 [==============================] - 0s 2ms/step - loss: 71.5723 - accuracy: 0.9584 - val_loss: 151.4900 - val_accuracy: 0.9788\n",
            "Epoch 33/1000\n",
            "164/164 [==============================] - 0s 2ms/step - loss: 71.2456 - accuracy: 0.9579 - val_loss: 61.9858 - val_accuracy: 0.9794\n",
            "Epoch 34/1000\n",
            "164/164 [==============================] - 0s 2ms/step - loss: 69.5545 - accuracy: 0.9571 - val_loss: 53.7487 - val_accuracy: 0.9788\n",
            "Epoch 35/1000\n",
            "164/164 [==============================] - 0s 2ms/step - loss: 67.0965 - accuracy: 0.9587 - val_loss: 108.5487 - val_accuracy: 0.9779\n",
            "Epoch 36/1000\n",
            "164/164 [==============================] - 0s 2ms/step - loss: 67.2873 - accuracy: 0.9579 - val_loss: 34.1458 - val_accuracy: 0.9809\n",
            "Epoch 37/1000\n",
            "164/164 [==============================] - 0s 2ms/step - loss: 65.2043 - accuracy: 0.9568 - val_loss: 40.9356 - val_accuracy: 0.9798\n",
            "Epoch 38/1000\n",
            "164/164 [==============================] - 0s 2ms/step - loss: 64.2863 - accuracy: 0.9612 - val_loss: 17.6782 - val_accuracy: 0.9819\n",
            "Epoch 39/1000\n",
            "164/164 [==============================] - 0s 2ms/step - loss: 62.3363 - accuracy: 0.9619 - val_loss: 34.1932 - val_accuracy: 0.9727\n",
            "Epoch 40/1000\n",
            "164/164 [==============================] - 0s 2ms/step - loss: 61.5252 - accuracy: 0.9610 - val_loss: 60.4568 - val_accuracy: 0.9460\n",
            "Epoch 41/1000\n",
            "164/164 [==============================] - 0s 2ms/step - loss: 60.2194 - accuracy: 0.9616 - val_loss: 24.0827 - val_accuracy: 0.9802\n",
            "Epoch 42/1000\n",
            "164/164 [==============================] - 0s 2ms/step - loss: 59.9587 - accuracy: 0.9614 - val_loss: 45.3066 - val_accuracy: 0.9636\n",
            "Epoch 43/1000\n",
            "164/164 [==============================] - 0s 2ms/step - loss: 58.4364 - accuracy: 0.9636 - val_loss: 80.8957 - val_accuracy: 0.9266\n",
            "Epoch 44/1000\n",
            "164/164 [==============================] - 0s 2ms/step - loss: 57.2133 - accuracy: 0.9638 - val_loss: 41.5806 - val_accuracy: 0.9624\n",
            "Epoch 45/1000\n",
            "164/164 [==============================] - 0s 2ms/step - loss: 56.7425 - accuracy: 0.9646 - val_loss: 27.0300 - val_accuracy: 0.9775\n",
            "Epoch 46/1000\n",
            "164/164 [==============================] - 0s 2ms/step - loss: 54.9793 - accuracy: 0.9638 - val_loss: 68.7343 - val_accuracy: 0.9365\n",
            "Epoch 47/1000\n",
            "164/164 [==============================] - 0s 2ms/step - loss: 54.5061 - accuracy: 0.9631 - val_loss: 58.2882 - val_accuracy: 0.9506\n",
            "Epoch 48/1000\n",
            "164/164 [==============================] - 0s 2ms/step - loss: 52.4054 - accuracy: 0.9669 - val_loss: 33.1122 - val_accuracy: 0.9767\n",
            "Epoch 49/1000\n",
            "164/164 [==============================] - 0s 2ms/step - loss: 52.9034 - accuracy: 0.9667 - val_loss: 125.6044 - val_accuracy: 0.9121\n",
            "Epoch 50/1000\n",
            "164/164 [==============================] - 0s 2ms/step - loss: 51.2967 - accuracy: 0.9664 - val_loss: 14.0279 - val_accuracy: 0.9821\n",
            "Epoch 51/1000\n",
            "164/164 [==============================] - 0s 2ms/step - loss: 50.4757 - accuracy: 0.9658 - val_loss: 57.3321 - val_accuracy: 0.9464\n",
            "Epoch 52/1000\n",
            "164/164 [==============================] - 0s 2ms/step - loss: 50.8531 - accuracy: 0.9651 - val_loss: 19.6500 - val_accuracy: 0.9819\n",
            "Epoch 53/1000\n",
            "164/164 [==============================] - 0s 2ms/step - loss: 47.9421 - accuracy: 0.9689 - val_loss: 102.9211 - val_accuracy: 0.9122\n",
            "Epoch 54/1000\n",
            "164/164 [==============================] - 0s 2ms/step - loss: 48.5603 - accuracy: 0.9684 - val_loss: 43.4687 - val_accuracy: 0.9660\n",
            "Epoch 55/1000\n",
            "164/164 [==============================] - 0s 2ms/step - loss: 47.4740 - accuracy: 0.9693 - val_loss: 81.5245 - val_accuracy: 0.9403\n",
            "Epoch 56/1000\n",
            "164/164 [==============================] - 0s 2ms/step - loss: 46.6951 - accuracy: 0.9697 - val_loss: 42.0004 - val_accuracy: 0.9609\n",
            "Epoch 57/1000\n",
            "164/164 [==============================] - 0s 2ms/step - loss: 46.5133 - accuracy: 0.9696 - val_loss: 42.7660 - val_accuracy: 0.9618\n",
            "Epoch 58/1000\n",
            "164/164 [==============================] - 0s 2ms/step - loss: 44.6921 - accuracy: 0.9704 - val_loss: 35.6651 - val_accuracy: 0.9695\n",
            "Epoch 59/1000\n",
            "164/164 [==============================] - 0s 3ms/step - loss: 43.7840 - accuracy: 0.9711 - val_loss: 50.5219 - val_accuracy: 0.9590\n",
            "Epoch 60/1000\n",
            "164/164 [==============================] - 0s 3ms/step - loss: 43.6745 - accuracy: 0.9717 - val_loss: 25.6821 - val_accuracy: 0.9824\n",
            "Epoch 61/1000\n",
            "164/164 [==============================] - 0s 2ms/step - loss: 42.5773 - accuracy: 0.9731 - val_loss: 51.5457 - val_accuracy: 0.9624\n",
            "Epoch 62/1000\n",
            "164/164 [==============================] - 0s 2ms/step - loss: 42.0107 - accuracy: 0.9733 - val_loss: 74.8055 - val_accuracy: 0.9565\n",
            "Epoch 63/1000\n",
            "164/164 [==============================] - 0s 2ms/step - loss: 40.6246 - accuracy: 0.9736 - val_loss: 19.3609 - val_accuracy: 0.9836\n",
            "Epoch 64/1000\n",
            "164/164 [==============================] - 0s 2ms/step - loss: 40.9988 - accuracy: 0.9748 - val_loss: 14.3629 - val_accuracy: 0.9840\n",
            "Epoch 65/1000\n",
            "164/164 [==============================] - 0s 2ms/step - loss: 39.2855 - accuracy: 0.9758 - val_loss: 55.6014 - val_accuracy: 0.9630\n",
            "Epoch 66/1000\n",
            "164/164 [==============================] - 0s 2ms/step - loss: 39.6874 - accuracy: 0.9747 - val_loss: 49.9147 - val_accuracy: 0.9685\n",
            "Epoch 67/1000\n",
            "164/164 [==============================] - 0s 2ms/step - loss: 39.0488 - accuracy: 0.9764 - val_loss: 76.5053 - val_accuracy: 0.9700\n",
            "Epoch 68/1000\n",
            "164/164 [==============================] - 0s 2ms/step - loss: 38.2209 - accuracy: 0.9783 - val_loss: 40.8981 - val_accuracy: 0.9815\n",
            "Epoch 69/1000\n",
            "164/164 [==============================] - 0s 2ms/step - loss: 37.9083 - accuracy: 0.9784 - val_loss: 24.9618 - val_accuracy: 0.9834\n",
            "Epoch 70/1000\n",
            "164/164 [==============================] - 0s 3ms/step - loss: 37.3187 - accuracy: 0.9784 - val_loss: 29.8544 - val_accuracy: 0.9845\n",
            "Test loss: 29.417499542236328\n",
            "Test accuracy: 0.9812299609184265\n"
          ]
        },
        {
          "output_type": "display_data",
          "data": {
            "text/plain": [
              "<Figure size 432x288 with 1 Axes>"
            ],
            "image/png": "[encoded data removed]"
          },
          "metadata": {
            "needs_background": "light"
          }
        }
      ]
    },
    {
      "cell_type": "code",
      "source": [
        "import numpy as np\n",
        "theta_test=np.array(theta_test)\n",
        "print(theta_test[2000])\n",
        "pos_predict = model.predict(theta_test[2000].reshape(1,2))\n",
        "print(\"Vị trí P dự đoán: \",pos_predict)\n",
        "position_test=np.array(position_test)\n",
        "print(\"Vị trí P thật: \",position_test[2000].reshape(1,2))   "
      ],
      "metadata": {
        "colab": {
          "base_uri": "https://localhost:8080/"
        },
        "id": "Q042Ff3iK0me",
        "outputId": "445611c0-db59-4fcf-8e80-6f3e3d7d15e3"
      },
      "execution_count": null,
      "outputs": [
        {
          "output_type": "stream",
          "name": "stdout",
          "text": [
            "[ 31 146]\n",
            "Vị trí P dự đoán:  [[ 2.7559466 21.09173  ]]\n",
            "Vị trí P thật:  [[ 2.91318365 27.845342  ]]\n"
          ]
        }
      ]
    }
  ]
}